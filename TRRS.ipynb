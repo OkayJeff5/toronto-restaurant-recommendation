{
 "cells": [
  {
   "cell_type": "markdown",
   "id": "f1fc8d1f",
   "metadata": {},
   "source": [
    "# Toronto Restaurants EDA\n",
    "\n",
    "This part of the notebook provides an exploratory data analysis (EDA) of the Toronto Restaurants dataset. We'll examine the structure, summary statistics, missing values, unique values."
   ]
  },
  {
   "cell_type": "markdown",
   "id": "1e483682",
   "metadata": {},
   "source": [
    "## 1. Import Libraries\n",
    "\n",
    "We'll use pandas for data manipulation, matplotlib and seaborn for visualization."
   ]
  },
  {
   "cell_type": "code",
   "execution_count": 3,
   "id": "3e16347e",
   "metadata": {},
   "outputs": [],
   "source": [
    "# EDA for Toronto Restaurants Dataset\n",
    "\n",
    "import numpy as np\n",
    "import pandas as pd\n",
    "import matplotlib.pyplot as plt\n",
    "import seaborn as sns\n",
    "from sklearn.metrics.pairwise import cosine_similarity\n",
    "from sklearn.preprocessing import MinMaxScaler\n",
    "from difflib import get_close_matches"
   ]
  },
  {
   "cell_type": "markdown",
   "id": "c7d6ad75",
   "metadata": {},
   "source": [
    "## 2. Load Dataset\n",
    "\n",
    "Let's load the dataset and preview the first few rows."
   ]
  },
  {
   "cell_type": "code",
   "execution_count": 4,
   "id": "2ba15d51",
   "metadata": {},
   "outputs": [
    {
     "data": {
      "text/html": [
       "<div>\n",
       "<style scoped>\n",
       "    .dataframe tbody tr th:only-of-type {\n",
       "        vertical-align: middle;\n",
       "    }\n",
       "\n",
       "    .dataframe tbody tr th {\n",
       "        vertical-align: top;\n",
       "    }\n",
       "\n",
       "    .dataframe thead th {\n",
       "        text-align: right;\n",
       "    }\n",
       "</style>\n",
       "<table border=\"1\" class=\"dataframe\">\n",
       "  <thead>\n",
       "    <tr style=\"text-align: right;\">\n",
       "      <th></th>\n",
       "      <th>Category</th>\n",
       "      <th>Restaurant Address</th>\n",
       "      <th>Restaurant Name</th>\n",
       "      <th>Restaurant Phone</th>\n",
       "      <th>Restaurant Price Range</th>\n",
       "      <th>Restaurant Website</th>\n",
       "      <th>Restaurant Yelp URL</th>\n",
       "      <th>Restaurant Latitude</th>\n",
       "      <th>Restaurant Longitude</th>\n",
       "    </tr>\n",
       "  </thead>\n",
       "  <tbody>\n",
       "    <tr>\n",
       "      <th>0</th>\n",
       "      <td>Afghan</td>\n",
       "      <td>14 Prince Arthur Avenue\\nToronto, ON M5R 1A9</td>\n",
       "      <td>The Host</td>\n",
       "      <td>(416) 962-4678</td>\n",
       "      <td>$11-30</td>\n",
       "      <td>welcometohost.com</td>\n",
       "      <td>https://www.yelp.ca/adredir?ad_business_id=OFA...</td>\n",
       "      <td>43.669935</td>\n",
       "      <td>-79.395858</td>\n",
       "    </tr>\n",
       "    <tr>\n",
       "      <th>1</th>\n",
       "      <td>Afghan</td>\n",
       "      <td>259 Wellington St W\\nToronto, ON M5V</td>\n",
       "      <td>Aanch Modernist Indian Cuisine</td>\n",
       "      <td>(647) 558-1508</td>\n",
       "      <td>$11-30</td>\n",
       "      <td>aanch.ca</td>\n",
       "      <td>https://www.yelp.ca/adredir?ad_business_id=SZu...</td>\n",
       "      <td>43.644708</td>\n",
       "      <td>-79.390670</td>\n",
       "    </tr>\n",
       "    <tr>\n",
       "      <th>2</th>\n",
       "      <td>Afghan</td>\n",
       "      <td>736 Bay Street\\nToronto, ON M5G 2J8</td>\n",
       "      <td>Silk Road Kabob House</td>\n",
       "      <td>NaN</td>\n",
       "      <td>Under $10</td>\n",
       "      <td>NaN</td>\n",
       "      <td>https://www.yelp.ca/biz/silk-road-kabob-house-...</td>\n",
       "      <td>43.659816</td>\n",
       "      <td>-79.385591</td>\n",
       "    </tr>\n",
       "    <tr>\n",
       "      <th>3</th>\n",
       "      <td>Afghan</td>\n",
       "      <td>691 Yonge Street\\nToronto, ON M4Y 2B2</td>\n",
       "      <td>Naan &amp; Kabob</td>\n",
       "      <td>(416) 972-6623</td>\n",
       "      <td>$11-30</td>\n",
       "      <td>naanandkabob.ca</td>\n",
       "      <td>https://www.yelp.ca/biz/naan-and-kabob-toronto-5</td>\n",
       "      <td>43.669058</td>\n",
       "      <td>-79.386100</td>\n",
       "    </tr>\n",
       "    <tr>\n",
       "      <th>4</th>\n",
       "      <td>Afghan</td>\n",
       "      <td>66 Overlea Boulevard\\nUnit 62\\nToronto, ON M4H...</td>\n",
       "      <td>Afghan Cuisine</td>\n",
       "      <td>(416) 422-5858</td>\n",
       "      <td>$11-30</td>\n",
       "      <td>afghancuisinerestaurant.com</td>\n",
       "      <td>https://www.yelp.ca/biz/afghan-cuisine-toronto</td>\n",
       "      <td>43.708070</td>\n",
       "      <td>-79.341508</td>\n",
       "    </tr>\n",
       "  </tbody>\n",
       "</table>\n",
       "</div>"
      ],
      "text/plain": [
       "  Category                                 Restaurant Address  \\\n",
       "0   Afghan       14 Prince Arthur Avenue\\nToronto, ON M5R 1A9   \n",
       "1   Afghan               259 Wellington St W\\nToronto, ON M5V   \n",
       "2   Afghan                736 Bay Street\\nToronto, ON M5G 2J8   \n",
       "3   Afghan              691 Yonge Street\\nToronto, ON M4Y 2B2   \n",
       "4   Afghan  66 Overlea Boulevard\\nUnit 62\\nToronto, ON M4H...   \n",
       "\n",
       "                  Restaurant Name Restaurant Phone Restaurant Price Range  \\\n",
       "0                        The Host   (416) 962-4678                 $11-30   \n",
       "1  Aanch Modernist Indian Cuisine   (647) 558-1508                 $11-30   \n",
       "2           Silk Road Kabob House              NaN              Under $10   \n",
       "3                    Naan & Kabob   (416) 972-6623                 $11-30   \n",
       "4                  Afghan Cuisine   (416) 422-5858                 $11-30   \n",
       "\n",
       "            Restaurant Website  \\\n",
       "0            welcometohost.com   \n",
       "1                     aanch.ca   \n",
       "2                          NaN   \n",
       "3              naanandkabob.ca   \n",
       "4  afghancuisinerestaurant.com   \n",
       "\n",
       "                                 Restaurant Yelp URL  Restaurant Latitude  \\\n",
       "0  https://www.yelp.ca/adredir?ad_business_id=OFA...            43.669935   \n",
       "1  https://www.yelp.ca/adredir?ad_business_id=SZu...            43.644708   \n",
       "2  https://www.yelp.ca/biz/silk-road-kabob-house-...            43.659816   \n",
       "3   https://www.yelp.ca/biz/naan-and-kabob-toronto-5            43.669058   \n",
       "4     https://www.yelp.ca/biz/afghan-cuisine-toronto            43.708070   \n",
       "\n",
       "   Restaurant Longitude  \n",
       "0            -79.395858  \n",
       "1            -79.390670  \n",
       "2            -79.385591  \n",
       "3            -79.386100  \n",
       "4            -79.341508  "
      ]
     },
     "execution_count": 4,
     "metadata": {},
     "output_type": "execute_result"
    }
   ],
   "source": [
    "# Load the dataset\n",
    "df = pd.read_csv(\"trt_rest.csv\")\n",
    "\n",
    "# Display basic info\n",
    "df.head()"
   ]
  },
  {
   "cell_type": "markdown",
   "id": "d4706b2b",
   "metadata": {},
   "source": [
    "## 3. Display Basic Information\n",
    "\n",
    "We'll check the structure and data types of the DataFrame."
   ]
  },
  {
   "cell_type": "code",
   "execution_count": 5,
   "id": "3b7d96c4",
   "metadata": {},
   "outputs": [
    {
     "name": "stdout",
     "output_type": "stream",
     "text": [
      "<class 'pandas.core.frame.DataFrame'>\n",
      "RangeIndex: 15821 entries, 0 to 15820\n",
      "Data columns (total 9 columns):\n",
      " #   Column                  Non-Null Count  Dtype  \n",
      "---  ------                  --------------  -----  \n",
      " 0   Category                15821 non-null  object \n",
      " 1   Restaurant Address      15773 non-null  object \n",
      " 2   Restaurant Name         15821 non-null  object \n",
      " 3   Restaurant Phone        15116 non-null  object \n",
      " 4   Restaurant Price Range  11541 non-null  object \n",
      " 5   Restaurant Website      10976 non-null  object \n",
      " 6   Restaurant Yelp URL     15821 non-null  object \n",
      " 7   Restaurant Latitude     15773 non-null  float64\n",
      " 8   Restaurant Longitude    15773 non-null  float64\n",
      "dtypes: float64(2), object(7)\n",
      "memory usage: 1.1+ MB\n"
     ]
    },
    {
     "data": {
      "text/html": [
       "<div>\n",
       "<style scoped>\n",
       "    .dataframe tbody tr th:only-of-type {\n",
       "        vertical-align: middle;\n",
       "    }\n",
       "\n",
       "    .dataframe tbody tr th {\n",
       "        vertical-align: top;\n",
       "    }\n",
       "\n",
       "    .dataframe thead th {\n",
       "        text-align: right;\n",
       "    }\n",
       "</style>\n",
       "<table border=\"1\" class=\"dataframe\">\n",
       "  <thead>\n",
       "    <tr style=\"text-align: right;\">\n",
       "      <th></th>\n",
       "      <th>Category</th>\n",
       "      <th>Restaurant Address</th>\n",
       "      <th>Restaurant Name</th>\n",
       "      <th>Restaurant Phone</th>\n",
       "      <th>Restaurant Price Range</th>\n",
       "      <th>Restaurant Website</th>\n",
       "      <th>Restaurant Yelp URL</th>\n",
       "      <th>Restaurant Latitude</th>\n",
       "      <th>Restaurant Longitude</th>\n",
       "    </tr>\n",
       "  </thead>\n",
       "  <tbody>\n",
       "    <tr>\n",
       "      <th>count</th>\n",
       "      <td>15821</td>\n",
       "      <td>15773</td>\n",
       "      <td>15821</td>\n",
       "      <td>15116</td>\n",
       "      <td>11541</td>\n",
       "      <td>10976</td>\n",
       "      <td>15821</td>\n",
       "      <td>15773.000000</td>\n",
       "      <td>15773.000000</td>\n",
       "    </tr>\n",
       "    <tr>\n",
       "      <th>unique</th>\n",
       "      <td>126</td>\n",
       "      <td>7892</td>\n",
       "      <td>6504</td>\n",
       "      <td>7570</td>\n",
       "      <td>5</td>\n",
       "      <td>3385</td>\n",
       "      <td>11450</td>\n",
       "      <td>NaN</td>\n",
       "      <td>NaN</td>\n",
       "    </tr>\n",
       "    <tr>\n",
       "      <th>top</th>\n",
       "      <td>Pizza</td>\n",
       "      <td>406 Dupont Street\\nToronto, ON M5R 1V9</td>\n",
       "      <td>Subway</td>\n",
       "      <td>(416) 967-1111</td>\n",
       "      <td>$11-30</td>\n",
       "      <td>pizzapizza.ca</td>\n",
       "      <td>https://www.yelp.ca/biz/beiruti-grand-caf%C3%A...</td>\n",
       "      <td>NaN</td>\n",
       "      <td>NaN</td>\n",
       "    </tr>\n",
       "    <tr>\n",
       "      <th>freq</th>\n",
       "      <td>1065</td>\n",
       "      <td>169</td>\n",
       "      <td>298</td>\n",
       "      <td>260</td>\n",
       "      <td>7059</td>\n",
       "      <td>252</td>\n",
       "      <td>4</td>\n",
       "      <td>NaN</td>\n",
       "      <td>NaN</td>\n",
       "    </tr>\n",
       "    <tr>\n",
       "      <th>mean</th>\n",
       "      <td>NaN</td>\n",
       "      <td>NaN</td>\n",
       "      <td>NaN</td>\n",
       "      <td>NaN</td>\n",
       "      <td>NaN</td>\n",
       "      <td>NaN</td>\n",
       "      <td>NaN</td>\n",
       "      <td>43.695051</td>\n",
       "      <td>-79.406573</td>\n",
       "    </tr>\n",
       "    <tr>\n",
       "      <th>std</th>\n",
       "      <td>NaN</td>\n",
       "      <td>NaN</td>\n",
       "      <td>NaN</td>\n",
       "      <td>NaN</td>\n",
       "      <td>NaN</td>\n",
       "      <td>NaN</td>\n",
       "      <td>NaN</td>\n",
       "      <td>0.060082</td>\n",
       "      <td>0.082616</td>\n",
       "    </tr>\n",
       "    <tr>\n",
       "      <th>min</th>\n",
       "      <td>NaN</td>\n",
       "      <td>NaN</td>\n",
       "      <td>NaN</td>\n",
       "      <td>NaN</td>\n",
       "      <td>NaN</td>\n",
       "      <td>NaN</td>\n",
       "      <td>NaN</td>\n",
       "      <td>43.088529</td>\n",
       "      <td>-80.153305</td>\n",
       "    </tr>\n",
       "    <tr>\n",
       "      <th>25%</th>\n",
       "      <td>NaN</td>\n",
       "      <td>NaN</td>\n",
       "      <td>NaN</td>\n",
       "      <td>NaN</td>\n",
       "      <td>NaN</td>\n",
       "      <td>NaN</td>\n",
       "      <td>NaN</td>\n",
       "      <td>43.652368</td>\n",
       "      <td>-79.445668</td>\n",
       "    </tr>\n",
       "    <tr>\n",
       "      <th>50%</th>\n",
       "      <td>NaN</td>\n",
       "      <td>NaN</td>\n",
       "      <td>NaN</td>\n",
       "      <td>NaN</td>\n",
       "      <td>NaN</td>\n",
       "      <td>NaN</td>\n",
       "      <td>NaN</td>\n",
       "      <td>43.673829</td>\n",
       "      <td>-79.398589</td>\n",
       "    </tr>\n",
       "    <tr>\n",
       "      <th>75%</th>\n",
       "      <td>NaN</td>\n",
       "      <td>NaN</td>\n",
       "      <td>NaN</td>\n",
       "      <td>NaN</td>\n",
       "      <td>NaN</td>\n",
       "      <td>NaN</td>\n",
       "      <td>NaN</td>\n",
       "      <td>43.738522</td>\n",
       "      <td>-79.366084</td>\n",
       "    </tr>\n",
       "    <tr>\n",
       "      <th>max</th>\n",
       "      <td>NaN</td>\n",
       "      <td>NaN</td>\n",
       "      <td>NaN</td>\n",
       "      <td>NaN</td>\n",
       "      <td>NaN</td>\n",
       "      <td>NaN</td>\n",
       "      <td>NaN</td>\n",
       "      <td>44.069601</td>\n",
       "      <td>-78.677382</td>\n",
       "    </tr>\n",
       "  </tbody>\n",
       "</table>\n",
       "</div>"
      ],
      "text/plain": [
       "       Category                      Restaurant Address Restaurant Name  \\\n",
       "count     15821                                   15773           15821   \n",
       "unique      126                                    7892            6504   \n",
       "top       Pizza  406 Dupont Street\\nToronto, ON M5R 1V9          Subway   \n",
       "freq       1065                                     169             298   \n",
       "mean        NaN                                     NaN             NaN   \n",
       "std         NaN                                     NaN             NaN   \n",
       "min         NaN                                     NaN             NaN   \n",
       "25%         NaN                                     NaN             NaN   \n",
       "50%         NaN                                     NaN             NaN   \n",
       "75%         NaN                                     NaN             NaN   \n",
       "max         NaN                                     NaN             NaN   \n",
       "\n",
       "       Restaurant Phone Restaurant Price Range Restaurant Website  \\\n",
       "count             15116                  11541              10976   \n",
       "unique             7570                      5               3385   \n",
       "top      (416) 967-1111                 $11-30      pizzapizza.ca   \n",
       "freq                260                   7059                252   \n",
       "mean                NaN                    NaN                NaN   \n",
       "std                 NaN                    NaN                NaN   \n",
       "min                 NaN                    NaN                NaN   \n",
       "25%                 NaN                    NaN                NaN   \n",
       "50%                 NaN                    NaN                NaN   \n",
       "75%                 NaN                    NaN                NaN   \n",
       "max                 NaN                    NaN                NaN   \n",
       "\n",
       "                                      Restaurant Yelp URL  \\\n",
       "count                                               15821   \n",
       "unique                                              11450   \n",
       "top     https://www.yelp.ca/biz/beiruti-grand-caf%C3%A...   \n",
       "freq                                                    4   \n",
       "mean                                                  NaN   \n",
       "std                                                   NaN   \n",
       "min                                                   NaN   \n",
       "25%                                                   NaN   \n",
       "50%                                                   NaN   \n",
       "75%                                                   NaN   \n",
       "max                                                   NaN   \n",
       "\n",
       "        Restaurant Latitude  Restaurant Longitude  \n",
       "count          15773.000000          15773.000000  \n",
       "unique                  NaN                   NaN  \n",
       "top                     NaN                   NaN  \n",
       "freq                    NaN                   NaN  \n",
       "mean              43.695051            -79.406573  \n",
       "std                0.060082              0.082616  \n",
       "min               43.088529            -80.153305  \n",
       "25%               43.652368            -79.445668  \n",
       "50%               43.673829            -79.398589  \n",
       "75%               43.738522            -79.366084  \n",
       "max               44.069601            -78.677382  "
      ]
     },
     "execution_count": 5,
     "metadata": {},
     "output_type": "execute_result"
    }
   ],
   "source": [
    "# Basic structure\n",
    "df.info()\n",
    "\n",
    "# Summary statistics\n",
    "df.describe(include='all')"
   ]
  },
  {
   "cell_type": "markdown",
   "id": "cbe913b2",
   "metadata": {},
   "source": [
    "## 4. Unique Values per Column\n",
    "\n",
    "Let's print the number of unique values for each column to understand categorical diversity."
   ]
  },
  {
   "cell_type": "code",
   "execution_count": 6,
   "id": "8cf74d17",
   "metadata": {},
   "outputs": [
    {
     "name": "stdout",
     "output_type": "stream",
     "text": [
      "Category: 126 unique values\n",
      "Restaurant Address: 7892 unique values\n",
      "Restaurant Name: 6504 unique values\n",
      "Restaurant Phone: 7570 unique values\n",
      "Restaurant Price Range: 5 unique values\n",
      "Restaurant Website: 3385 unique values\n",
      "Restaurant Yelp URL: 11450 unique values\n",
      "Restaurant Latitude: 7344 unique values\n",
      "Restaurant Longitude: 7448 unique values\n"
     ]
    }
   ],
   "source": [
    "# Unique values in each column\n",
    "for col in df.columns:\n",
    "    print(f\"{col}: {df[col].nunique()} unique values\")"
   ]
  },
  {
   "cell_type": "markdown",
   "id": "3530feba",
   "metadata": {},
   "source": [
    "## 5. Check duplication"
   ]
  },
  {
   "cell_type": "code",
   "execution_count": 7,
   "id": "ceebcadc",
   "metadata": {},
   "outputs": [
    {
     "name": "stdout",
     "output_type": "stream",
     "text": [
      "Number of duplicate rows: 12\n"
     ]
    },
    {
     "data": {
      "text/html": [
       "<div>\n",
       "<style scoped>\n",
       "    .dataframe tbody tr th:only-of-type {\n",
       "        vertical-align: middle;\n",
       "    }\n",
       "\n",
       "    .dataframe tbody tr th {\n",
       "        vertical-align: top;\n",
       "    }\n",
       "\n",
       "    .dataframe thead th {\n",
       "        text-align: right;\n",
       "    }\n",
       "</style>\n",
       "<table border=\"1\" class=\"dataframe\">\n",
       "  <thead>\n",
       "    <tr style=\"text-align: right;\">\n",
       "      <th></th>\n",
       "      <th>Category</th>\n",
       "      <th>Restaurant Address</th>\n",
       "      <th>Restaurant Name</th>\n",
       "      <th>Restaurant Phone</th>\n",
       "      <th>Restaurant Price Range</th>\n",
       "      <th>Restaurant Website</th>\n",
       "      <th>Restaurant Yelp URL</th>\n",
       "      <th>Restaurant Latitude</th>\n",
       "      <th>Restaurant Longitude</th>\n",
       "    </tr>\n",
       "  </thead>\n",
       "  <tbody>\n",
       "    <tr>\n",
       "      <th>9927</th>\n",
       "      <td>Lebanese</td>\n",
       "      <td>236 Sherbourne Street\\nToronto, ON M5A 2R7</td>\n",
       "      <td>Marhaba Lebanese Cuisine</td>\n",
       "      <td>(647) 349-6338</td>\n",
       "      <td>NaN</td>\n",
       "      <td>marhabarestaurant.com</td>\n",
       "      <td>https://www.yelp.ca/biz/marhaba-lebanese-cuisi...</td>\n",
       "      <td>43.658116</td>\n",
       "      <td>-79.371049</td>\n",
       "    </tr>\n",
       "    <tr>\n",
       "      <th>9929</th>\n",
       "      <td>Lebanese</td>\n",
       "      <td>236 Sherbourne Street\\nToronto, ON M5A 2R7</td>\n",
       "      <td>Marhaba Lebanese Cuisine</td>\n",
       "      <td>(647) 349-6338</td>\n",
       "      <td>NaN</td>\n",
       "      <td>marhabarestaurant.com</td>\n",
       "      <td>https://www.yelp.ca/biz/marhaba-lebanese-cuisi...</td>\n",
       "      <td>43.658116</td>\n",
       "      <td>-79.371049</td>\n",
       "    </tr>\n",
       "    <tr>\n",
       "      <th>11530</th>\n",
       "      <td>Pizza</td>\n",
       "      <td>979 Bloor Street W\\nToronto, ON M6H 1L5</td>\n",
       "      <td>Pizza Pizza</td>\n",
       "      <td>(416) 967-1111</td>\n",
       "      <td>Under $10</td>\n",
       "      <td>pizzapizza.ca</td>\n",
       "      <td>https://www.yelp.ca/biz/pizza-pizza-toronto-8</td>\n",
       "      <td>43.661054</td>\n",
       "      <td>-79.429089</td>\n",
       "    </tr>\n",
       "    <tr>\n",
       "      <th>11533</th>\n",
       "      <td>Pizza</td>\n",
       "      <td>979 Bloor Street W\\nToronto, ON M6H 1L5</td>\n",
       "      <td>Pizza Pizza</td>\n",
       "      <td>(416) 967-1111</td>\n",
       "      <td>Under $10</td>\n",
       "      <td>pizzapizza.ca</td>\n",
       "      <td>https://www.yelp.ca/biz/pizza-pizza-toronto-8</td>\n",
       "      <td>43.661054</td>\n",
       "      <td>-79.429089</td>\n",
       "    </tr>\n",
       "    <tr>\n",
       "      <th>11541</th>\n",
       "      <td>Pizza</td>\n",
       "      <td>820 Sheppard Avenue W\\nToronto, ON M3H 2T1</td>\n",
       "      <td>Domino’s Pizza</td>\n",
       "      <td>(416) 636-3888</td>\n",
       "      <td>NaN</td>\n",
       "      <td>dominos.ca</td>\n",
       "      <td>https://www.yelp.ca/biz/dominos-pizza-toronto-20</td>\n",
       "      <td>43.753130</td>\n",
       "      <td>-79.450904</td>\n",
       "    </tr>\n",
       "    <tr>\n",
       "      <th>11542</th>\n",
       "      <td>Pizza</td>\n",
       "      <td>810 Church Street\\nToronto, ON M4W 2M4</td>\n",
       "      <td>Pizza Hut</td>\n",
       "      <td>(416) 927-7700</td>\n",
       "      <td>$11-30</td>\n",
       "      <td>pizzahut.ca</td>\n",
       "      <td>https://www.yelp.ca/biz/pizza-hut-toronto-23</td>\n",
       "      <td>43.671973</td>\n",
       "      <td>-79.385281</td>\n",
       "    </tr>\n",
       "    <tr>\n",
       "      <th>11544</th>\n",
       "      <td>Pizza</td>\n",
       "      <td>810 Church Street\\nToronto, ON M4W 2M4</td>\n",
       "      <td>Pizza Hut</td>\n",
       "      <td>(416) 927-7700</td>\n",
       "      <td>$11-30</td>\n",
       "      <td>pizzahut.ca</td>\n",
       "      <td>https://www.yelp.ca/biz/pizza-hut-toronto-23</td>\n",
       "      <td>43.671973</td>\n",
       "      <td>-79.385281</td>\n",
       "    </tr>\n",
       "    <tr>\n",
       "      <th>11547</th>\n",
       "      <td>Pizza</td>\n",
       "      <td>820 Sheppard Avenue W\\nToronto, ON M3H 2T1</td>\n",
       "      <td>Domino’s Pizza</td>\n",
       "      <td>(416) 636-3888</td>\n",
       "      <td>NaN</td>\n",
       "      <td>dominos.ca</td>\n",
       "      <td>https://www.yelp.ca/biz/dominos-pizza-toronto-20</td>\n",
       "      <td>43.753130</td>\n",
       "      <td>-79.450904</td>\n",
       "    </tr>\n",
       "    <tr>\n",
       "      <th>12000</th>\n",
       "      <td>Pizza</td>\n",
       "      <td>1396 Don Mills Road\\nSuite 52\\nNorth York, AB ...</td>\n",
       "      <td>Domino’s Pizza</td>\n",
       "      <td>(647) 352-5055</td>\n",
       "      <td>NaN</td>\n",
       "      <td>order.dominos.ca/en</td>\n",
       "      <td>https://www.yelp.ca/biz/dominos-pizza-north-yo...</td>\n",
       "      <td>43.748826</td>\n",
       "      <td>-79.347592</td>\n",
       "    </tr>\n",
       "    <tr>\n",
       "      <th>12001</th>\n",
       "      <td>Pizza</td>\n",
       "      <td>8 Green Lane\\nUnit 12\\nMarkham, ON L3T 7P7</td>\n",
       "      <td>Pizza Nova</td>\n",
       "      <td>(905) 731-1881</td>\n",
       "      <td>Under $10</td>\n",
       "      <td>pizzanova.com</td>\n",
       "      <td>https://www.yelp.ca/biz/pizza-nova-markham-8</td>\n",
       "      <td>43.821587</td>\n",
       "      <td>-79.399930</td>\n",
       "    </tr>\n",
       "    <tr>\n",
       "      <th>12002</th>\n",
       "      <td>Pizza</td>\n",
       "      <td>1396 Don Mills Road\\nSuite 52\\nNorth York, AB ...</td>\n",
       "      <td>Domino’s Pizza</td>\n",
       "      <td>(647) 352-5055</td>\n",
       "      <td>NaN</td>\n",
       "      <td>order.dominos.ca/en</td>\n",
       "      <td>https://www.yelp.ca/biz/dominos-pizza-north-yo...</td>\n",
       "      <td>43.748826</td>\n",
       "      <td>-79.347592</td>\n",
       "    </tr>\n",
       "    <tr>\n",
       "      <th>12003</th>\n",
       "      <td>Pizza</td>\n",
       "      <td>8 Green Lane\\nUnit 12\\nMarkham, ON L3T 7P7</td>\n",
       "      <td>Pizza Nova</td>\n",
       "      <td>(905) 731-1881</td>\n",
       "      <td>Under $10</td>\n",
       "      <td>pizzanova.com</td>\n",
       "      <td>https://www.yelp.ca/biz/pizza-nova-markham-8</td>\n",
       "      <td>43.821587</td>\n",
       "      <td>-79.399930</td>\n",
       "    </tr>\n",
       "  </tbody>\n",
       "</table>\n",
       "</div>"
      ],
      "text/plain": [
       "       Category                                 Restaurant Address  \\\n",
       "9927   Lebanese         236 Sherbourne Street\\nToronto, ON M5A 2R7   \n",
       "9929   Lebanese         236 Sherbourne Street\\nToronto, ON M5A 2R7   \n",
       "11530     Pizza            979 Bloor Street W\\nToronto, ON M6H 1L5   \n",
       "11533     Pizza            979 Bloor Street W\\nToronto, ON M6H 1L5   \n",
       "11541     Pizza         820 Sheppard Avenue W\\nToronto, ON M3H 2T1   \n",
       "11542     Pizza             810 Church Street\\nToronto, ON M4W 2M4   \n",
       "11544     Pizza             810 Church Street\\nToronto, ON M4W 2M4   \n",
       "11547     Pizza         820 Sheppard Avenue W\\nToronto, ON M3H 2T1   \n",
       "12000     Pizza  1396 Don Mills Road\\nSuite 52\\nNorth York, AB ...   \n",
       "12001     Pizza         8 Green Lane\\nUnit 12\\nMarkham, ON L3T 7P7   \n",
       "12002     Pizza  1396 Don Mills Road\\nSuite 52\\nNorth York, AB ...   \n",
       "12003     Pizza         8 Green Lane\\nUnit 12\\nMarkham, ON L3T 7P7   \n",
       "\n",
       "                Restaurant Name Restaurant Phone Restaurant Price Range  \\\n",
       "9927   Marhaba Lebanese Cuisine   (647) 349-6338                    NaN   \n",
       "9929   Marhaba Lebanese Cuisine   (647) 349-6338                    NaN   \n",
       "11530               Pizza Pizza   (416) 967-1111              Under $10   \n",
       "11533               Pizza Pizza   (416) 967-1111              Under $10   \n",
       "11541            Domino’s Pizza   (416) 636-3888                    NaN   \n",
       "11542                 Pizza Hut   (416) 927-7700                 $11-30   \n",
       "11544                 Pizza Hut   (416) 927-7700                 $11-30   \n",
       "11547            Domino’s Pizza   (416) 636-3888                    NaN   \n",
       "12000            Domino’s Pizza   (647) 352-5055                    NaN   \n",
       "12001                Pizza Nova   (905) 731-1881              Under $10   \n",
       "12002            Domino’s Pizza   (647) 352-5055                    NaN   \n",
       "12003                Pizza Nova   (905) 731-1881              Under $10   \n",
       "\n",
       "          Restaurant Website  \\\n",
       "9927   marhabarestaurant.com   \n",
       "9929   marhabarestaurant.com   \n",
       "11530          pizzapizza.ca   \n",
       "11533          pizzapizza.ca   \n",
       "11541             dominos.ca   \n",
       "11542            pizzahut.ca   \n",
       "11544            pizzahut.ca   \n",
       "11547             dominos.ca   \n",
       "12000    order.dominos.ca/en   \n",
       "12001          pizzanova.com   \n",
       "12002    order.dominos.ca/en   \n",
       "12003          pizzanova.com   \n",
       "\n",
       "                                     Restaurant Yelp URL  Restaurant Latitude  \\\n",
       "9927   https://www.yelp.ca/biz/marhaba-lebanese-cuisi...            43.658116   \n",
       "9929   https://www.yelp.ca/biz/marhaba-lebanese-cuisi...            43.658116   \n",
       "11530      https://www.yelp.ca/biz/pizza-pizza-toronto-8            43.661054   \n",
       "11533      https://www.yelp.ca/biz/pizza-pizza-toronto-8            43.661054   \n",
       "11541   https://www.yelp.ca/biz/dominos-pizza-toronto-20            43.753130   \n",
       "11542       https://www.yelp.ca/biz/pizza-hut-toronto-23            43.671973   \n",
       "11544       https://www.yelp.ca/biz/pizza-hut-toronto-23            43.671973   \n",
       "11547   https://www.yelp.ca/biz/dominos-pizza-toronto-20            43.753130   \n",
       "12000  https://www.yelp.ca/biz/dominos-pizza-north-yo...            43.748826   \n",
       "12001       https://www.yelp.ca/biz/pizza-nova-markham-8            43.821587   \n",
       "12002  https://www.yelp.ca/biz/dominos-pizza-north-yo...            43.748826   \n",
       "12003       https://www.yelp.ca/biz/pizza-nova-markham-8            43.821587   \n",
       "\n",
       "       Restaurant Longitude  \n",
       "9927             -79.371049  \n",
       "9929             -79.371049  \n",
       "11530            -79.429089  \n",
       "11533            -79.429089  \n",
       "11541            -79.450904  \n",
       "11542            -79.385281  \n",
       "11544            -79.385281  \n",
       "11547            -79.450904  \n",
       "12000            -79.347592  \n",
       "12001            -79.399930  \n",
       "12002            -79.347592  \n",
       "12003            -79.399930  "
      ]
     },
     "execution_count": 7,
     "metadata": {},
     "output_type": "execute_result"
    }
   ],
   "source": [
    "duplicates = df[df.duplicated(keep=False)]\n",
    "print(f\"Number of duplicate rows:\", duplicates.shape[0])\n",
    "duplicates"
   ]
  },
  {
   "cell_type": "code",
   "execution_count": 8,
   "id": "92d0a198",
   "metadata": {},
   "outputs": [
    {
     "name": "stdout",
     "output_type": "stream",
     "text": [
      "<class 'pandas.core.frame.DataFrame'>\n",
      "Index: 15815 entries, 0 to 15820\n",
      "Data columns (total 9 columns):\n",
      " #   Column                  Non-Null Count  Dtype  \n",
      "---  ------                  --------------  -----  \n",
      " 0   Category                15815 non-null  object \n",
      " 1   Restaurant Address      15767 non-null  object \n",
      " 2   Restaurant Name         15815 non-null  object \n",
      " 3   Restaurant Phone        15110 non-null  object \n",
      " 4   Restaurant Price Range  11538 non-null  object \n",
      " 5   Restaurant Website      10970 non-null  object \n",
      " 6   Restaurant Yelp URL     15815 non-null  object \n",
      " 7   Restaurant Latitude     15767 non-null  float64\n",
      " 8   Restaurant Longitude    15767 non-null  float64\n",
      "dtypes: float64(2), object(7)\n",
      "memory usage: 1.2+ MB\n"
     ]
    }
   ],
   "source": [
    "# Remove duplicate rows\n",
    "df_clean = df.drop_duplicates()\n",
    "df_clean.info()"
   ]
  },
  {
   "cell_type": "markdown",
   "id": "6ab9db32",
   "metadata": {},
   "source": [
    "## 6. Missing Values Analysis\n",
    "\n",
    "We'll calculate and display the number of missing values in each column."
   ]
  },
  {
   "cell_type": "code",
   "execution_count": 9,
   "id": "945491aa",
   "metadata": {},
   "outputs": [
    {
     "data": {
      "text/plain": [
       "Restaurant Website        4845\n",
       "Restaurant Price Range    4277\n",
       "Restaurant Phone           705\n",
       "Restaurant Address          48\n",
       "Restaurant Latitude         48\n",
       "Restaurant Longitude        48\n",
       "Category                     0\n",
       "Restaurant Name              0\n",
       "Restaurant Yelp URL          0\n",
       "dtype: int64"
      ]
     },
     "execution_count": 9,
     "metadata": {},
     "output_type": "execute_result"
    }
   ],
   "source": [
    "# Count missing values\n",
    "df_clean.isnull().sum().sort_values(ascending=False)"
   ]
  },
  {
   "cell_type": "markdown",
   "id": "f33db70b",
   "metadata": {},
   "source": [
    "### Price Range"
   ]
  },
  {
   "cell_type": "code",
   "execution_count": 10,
   "id": "add5e818",
   "metadata": {},
   "outputs": [
    {
     "name": "stdout",
     "output_type": "stream",
     "text": [
      "Restaurant Price Range\n",
      "$11-30       7058\n",
      "Under $10    3363\n",
      "$31-60       1023\n",
      "Above $61      91\n",
      "US$11-30        3\n",
      "Name: count, dtype: int64\n"
     ]
    }
   ],
   "source": [
    "# Check unique categories\n",
    "print(df_clean['Restaurant Price Range'].value_counts())"
   ]
  },
  {
   "cell_type": "code",
   "execution_count": 11,
   "id": "75748c8b",
   "metadata": {
    "vscode": {
     "languageId": "ruby"
    }
   },
   "outputs": [
    {
     "data": {
      "image/png": "[encoded data removed]",
      "text/plain": [
       "<Figure size 640x480 with 1 Axes>"
      ]
     },
     "metadata": {},
     "output_type": "display_data"
    }
   ],
   "source": [
    "# Remove rows where Restaurant Price Range is 'US$11-30'\n",
    "df_clean = df_clean[df_clean['Restaurant Price Range'] != 'US$11-30']\n",
    "\n",
    "# Fill missing values with the mode\n",
    "mode_price = df_clean['Restaurant Price Range'].mode()[0]\n",
    "df_clean['Restaurant Price Range'] = df_clean['Restaurant Price Range'].fillna(mode_price)\n",
    "\n",
    "# Check result\n",
    "sns.countplot(y='Restaurant Price Range', data=df_clean, order=df_clean['Restaurant Price Range'].value_counts().index)\n",
    "plt.title('Top 10 Restaurant Categories')\n",
    "plt.show()"
   ]
  },
  {
   "cell_type": "markdown",
   "id": "3fb06d26",
   "metadata": {},
   "source": [
    "### Category"
   ]
  },
  {
   "cell_type": "code",
   "execution_count": 12,
   "id": "38c46cab",
   "metadata": {},
   "outputs": [
    {
     "name": "stdout",
     "output_type": "stream",
     "text": [
      "Category\n",
      "Pizza                   1060\n",
      "Sandwiches              1029\n",
      "Chinese                  909\n",
      "Fast Food                812\n",
      "Italian                  802\n",
      "                        ... \n",
      "Slovakian                  2\n",
      "Burmese                    1\n",
      "Pop-Up Restaurants         1\n",
      "Hong Kong Style Cafe       1\n",
      "Mauritius                  1\n",
      "Name: count, Length: 126, dtype: int64\n"
     ]
    }
   ],
   "source": [
    "# Check unique categories\n",
    "print(df_clean['Category'].value_counts())"
   ]
  },
  {
   "cell_type": "code",
   "execution_count": 13,
   "id": "4c62b3fd",
   "metadata": {},
   "outputs": [
    {
     "data": {
      "image/png": "[encoded data removed]",
      "text/plain": [
       "<Figure size 640x480 with 1 Axes>"
      ]
     },
     "metadata": {},
     "output_type": "display_data"
    }
   ],
   "source": [
    "sns.countplot(y='Category', data=df_clean, order=df_clean['Category'].value_counts().head(10).index)\n",
    "plt.title('Top 10 Restaurant Categories')\n",
    "plt.show()"
   ]
  },
  {
   "cell_type": "markdown",
   "id": "4a7d5546",
   "metadata": {},
   "source": [
    "### Location (Latitude and Longitude)"
   ]
  },
  {
   "cell_type": "code",
   "execution_count": 14,
   "id": "727dbaee",
   "metadata": {},
   "outputs": [
    {
     "name": "stdout",
     "output_type": "stream",
     "text": [
      "<class 'pandas.core.frame.DataFrame'>\n",
      "Index: 15764 entries, 0 to 15820\n",
      "Data columns (total 9 columns):\n",
      " #   Column                  Non-Null Count  Dtype  \n",
      "---  ------                  --------------  -----  \n",
      " 0   Category                15764 non-null  object \n",
      " 1   Restaurant Address      15764 non-null  object \n",
      " 2   Restaurant Name         15764 non-null  object \n",
      " 3   Restaurant Phone        15098 non-null  object \n",
      " 4   Restaurant Price Range  15764 non-null  object \n",
      " 5   Restaurant Website      10960 non-null  object \n",
      " 6   Restaurant Yelp URL     15764 non-null  object \n",
      " 7   Restaurant Latitude     15764 non-null  float64\n",
      " 8   Restaurant Longitude    15764 non-null  float64\n",
      "dtypes: float64(2), object(7)\n",
      "memory usage: 1.2+ MB\n"
     ]
    }
   ],
   "source": [
    "df_clean.dropna(subset=['Restaurant Address', 'Restaurant Latitude', 'Restaurant Longitude'], inplace=True)\n",
    "df_clean.info()"
   ]
  },
  {
   "cell_type": "code",
   "execution_count": 15,
   "id": "bd845d6f",
   "metadata": {},
   "outputs": [
    {
     "data": {
      "text/plain": [
       "Restaurant Website        4804\n",
       "Restaurant Phone           666\n",
       "Category                     0\n",
       "Restaurant Address           0\n",
       "Restaurant Name              0\n",
       "Restaurant Price Range       0\n",
       "Restaurant Yelp URL          0\n",
       "Restaurant Latitude          0\n",
       "Restaurant Longitude         0\n",
       "dtype: int64"
      ]
     },
     "execution_count": 15,
     "metadata": {},
     "output_type": "execute_result"
    }
   ],
   "source": [
    "# Count missing values\n",
    "df_clean.isnull().sum().sort_values(ascending=False)"
   ]
  },
  {
   "cell_type": "markdown",
   "id": "0e56d85c",
   "metadata": {},
   "source": [
    "# Building the recommendation system"
   ]
  },
  {
   "cell_type": "markdown",
   "id": "c63f3691",
   "metadata": {},
   "source": [
    "## Data Preprocessing"
   ]
  },
  {
   "cell_type": "code",
   "execution_count": 16,
   "id": "49dfadbe",
   "metadata": {},
   "outputs": [],
   "source": [
    "# Copy the DataFrame for Preprocessing\n",
    "df_features = df_clean.copy()"
   ]
  },
  {
   "cell_type": "markdown",
   "id": "c693cb19",
   "metadata": {},
   "source": [
    "### Encode Price Range"
   ]
  },
  {
   "cell_type": "code",
   "execution_count": 17,
   "id": "6f2b289b",
   "metadata": {},
   "outputs": [],
   "source": [
    "# Define the order for price ranges\n",
    "price_order = [\n",
    "    'Under $10',\n",
    "    '$11-30',  \n",
    "    '$31-60',\n",
    "    'Above $61'\n",
    "]\n",
    "\n",
    "# Create a mapping dictionary\n",
    "price_map = {price: idx for idx, price in enumerate(price_order)}\n",
    "\n",
    "# Encode into a new column\n",
    "df_features['Price_Encoded'] = df_features['Restaurant Price Range'].map(price_map)\n"
   ]
  },
  {
   "cell_type": "markdown",
   "id": "f14267df",
   "metadata": {},
   "source": [
    "### One-Hot Encode Category"
   ]
  },
  {
   "cell_type": "code",
   "execution_count": 18,
   "id": "84288790",
   "metadata": {},
   "outputs": [],
   "source": [
    "# One-hot encode category\n",
    "category_encoded = pd.get_dummies(df_features['Category'], prefix='cat')\n",
    "\n",
    "# Add to feature DataFrame\n",
    "df_features = pd.concat([df_features, category_encoded], axis=1)\n"
   ]
  },
  {
   "cell_type": "markdown",
   "id": "3efd4069",
   "metadata": {},
   "source": [
    "### Normalize Latitude & Longitude"
   ]
  },
  {
   "cell_type": "code",
   "execution_count": 19,
   "id": "62b9d3f8",
   "metadata": {},
   "outputs": [],
   "source": [
    "scaler = MinMaxScaler()\n",
    "df_features[['Lat_Scaled', 'Lon_Scaled']] = scaler.fit_transform(\n",
    "    df_features[['Restaurant Latitude', 'Restaurant Longitude']]\n",
    ")"
   ]
  },
  {
   "cell_type": "code",
   "execution_count": 20,
   "id": "240de6a1",
   "metadata": {},
   "outputs": [
    {
     "data": {
      "text/plain": [
       "(15764, 129)"
      ]
     },
     "execution_count": 20,
     "metadata": {},
     "output_type": "execute_result"
    }
   ],
   "source": [
    "# Collect columns for the feature matrix\n",
    "feature_cols = ['Price_Encoded', 'Lat_Scaled', 'Lon_Scaled'] + list(category_encoded.columns)\n",
    "\n",
    "# Final feature matrix\n",
    "feature_matrix = df_features[feature_cols].values\n",
    "\n",
    "feature_matrix.shape  # Check the shape of the feature matrix"
   ]
  },
  {
   "cell_type": "markdown",
   "id": "a5de2399",
   "metadata": {},
   "source": [
    "### Using cosine similarity for recommender"
   ]
  },
  {
   "cell_type": "code",
   "execution_count": 21,
   "id": "d3c90e82",
   "metadata": {},
   "outputs": [],
   "source": [
    "def recommend_similar(restaurant_name, df_features, feature_matrix, top_n=10,\n",
    "                      name_col=\"Restaurant Name\", extra_cols=None):\n",
    "    if extra_cols is None:\n",
    "        extra_cols = [\n",
    "            \"Category\",\n",
    "            \"Restaurant Price Range\",\n",
    "            \"Restaurant Address\",\n",
    "        ]\n",
    "\n",
    "    matches = df_features.index[\n",
    "        df_features[name_col].str.lower() == restaurant_name.lower()\n",
    "    ].tolist()\n",
    "\n",
    "    if not matches:\n",
    "        suggestions = get_close_matches(\n",
    "            restaurant_name, df_features[name_col].unique(), n=5, cutoff=0.6\n",
    "        )\n",
    "        raise ValueError(\n",
    "            f\"No exact match for '{restaurant_name}'. \"\n",
    "            f\"Close matches: {', '.join(suggestions) if suggestions else 'None'}\"\n",
    "        )\n",
    "\n",
    "    idx = matches[0]\n",
    "    sim = cosine_similarity(feature_matrix[idx:idx+1], feature_matrix).ravel()\n",
    "    sim[idx] = -1.0\n",
    "\n",
    "    top_idx = np.argsort(sim)[::-1][:top_n]\n",
    "\n",
    "    cols_to_show = [name_col] + [c for c in extra_cols if c in df_features.columns]\n",
    "    result = df_features.iloc[top_idx][cols_to_show].copy()\n",
    "    result.insert(1, \"Similarity\", sim[top_idx].round(4))\n",
    "\n",
    "    return result.reset_index(drop=True)"
   ]
  },
  {
   "cell_type": "code",
   "execution_count": 22,
   "id": "03caeebf",
   "metadata": {},
   "outputs": [
    {
     "name": "stdout",
     "output_type": "stream",
     "text": [
      "                   Restaurant Name  Similarity Category  \\\n",
      "0             Jasmine Chinese Food      1.0000  Chinese   \n",
      "1            Paul Kee Open Kitchen      1.0000  Chinese   \n",
      "2                    Spice & Aroma      1.0000  Chinese   \n",
      "3                    Red Tea House      1.0000  Chinese   \n",
      "4                       M&Y Bakery      0.9999  Chinese   \n",
      "5             Wei’s Taiwanese Food      0.9999  Chinese   \n",
      "6          D & R Wing’s Restaurant      0.9999  Chinese   \n",
      "7                      Yogi Noodle      0.9999  Chinese   \n",
      "8  Yunnan Cross Bridge Rice Noodle      0.9999  Chinese   \n",
      "9                         Tsui Wah      0.9999  Chinese   \n",
      "\n",
      "  Restaurant Price Range                                 Restaurant Address  \n",
      "0              Under $10  Bridlewood Mall\\n2900 Warden Avenue, Suite 258...  \n",
      "1              Under $10      2950 Birchmount Road\\nScarborough, ON M1W 3G5  \n",
      "2              Under $10          3330 Pharmacy Avenue\\nToronto, ON M1W 3V8  \n",
      "3              Under $10           2903 Kennedy Rd\\nScarborough, ON M1V 1S8  \n",
      "4              Under $10  3601 Victoria Park Avenue\\nUnit 122\\nToronto, ...  \n",
      "5              Under $10      2578 Birchmount Road\\nScarborough, ON M1T 2M5  \n",
      "6              Under $10          325 Bamburgh Cir\\nScarborough, ON M1W 3Y1  \n",
      "7              Under $10  325 Bamburgh Cir\\nUnit 109A\\nScarborough, ON M...  \n",
      "8              Under $10  19 Milliken Boulevard\\nSuite 3\\nScarborough, O...  \n",
      "9              Under $10  3261 Kennedy Road\\nUnit 2\\nScarborough, ON M1V...  \n"
     ]
    }
   ],
   "source": [
    "# Example: get top 10 similar to a known restaurant\n",
    "try:\n",
    "    recs = recommend_similar(\n",
    "        \"Spicy Mafia\",\n",
    "        df_features=df_features,\n",
    "        feature_matrix=feature_matrix,\n",
    "        top_n=10\n",
    "    )\n",
    "    print(recs)\n",
    "except ValueError as e:\n",
    "    print(e)"
   ]
  },
  {
   "cell_type": "markdown",
   "id": "3d2ed60b",
   "metadata": {},
   "source": [
    "### (Optional) Weight location vs. category vs. price\n",
    "\n",
    "You may want location to matter more/less than category or price. Easiest way: scale those feature columns before building feature_matrix."
   ]
  },
  {
   "cell_type": "code",
   "execution_count": 23,
   "id": "95b00df3",
   "metadata": {},
   "outputs": [],
   "source": [
    "# Example weights: make location count a bit less than category; price moderate\n",
    "W_PRICE = 1.0\n",
    "W_LOC   = 0.5   # smaller = counts less\n",
    "# Multiply the scaled location columns; price stays as is\n",
    "df_features[\"Lat_Scaled_w\"] = df_features[\"Lat_Scaled\"] * W_LOC\n",
    "df_features[\"Lon_Scaled_w\"] = df_features[\"Lon_Scaled\"] * W_LOC\n",
    "df_features[\"Price_Encoded_w\"] = df_features[\"Price_Encoded\"] * W_PRICE\n",
    "\n",
    "# Then rebuild your feature list to use the weighted columns:\n",
    "feature_cols = (\n",
    "    [\"Price_Encoded_w\", \"Lat_Scaled_w\", \"Lon_Scaled_w\"]\n",
    "    + [c for c in df_features.columns if c.startswith(\"cat_\")]\n",
    ")\n",
    "feature_matrix = df_features[feature_cols].values\n"
   ]
  },
  {
   "cell_type": "code",
   "execution_count": 24,
   "id": "64d05790",
   "metadata": {},
   "outputs": [
    {
     "name": "stdout",
     "output_type": "stream",
     "text": [
      "                   Restaurant Name  Similarity Category  \\\n",
      "0             Jasmine Chinese Food         1.0  Chinese   \n",
      "1            Paul Kee Open Kitchen         1.0  Chinese   \n",
      "2                    Spice & Aroma         1.0  Chinese   \n",
      "3                       M&Y Bakery         1.0  Chinese   \n",
      "4             Wei’s Taiwanese Food         1.0  Chinese   \n",
      "5                    Red Tea House         1.0  Chinese   \n",
      "6                      Yogi Noodle         1.0  Chinese   \n",
      "7          D & R Wing’s Restaurant         1.0  Chinese   \n",
      "8  Yunnan Cross Bridge Rice Noodle         1.0  Chinese   \n",
      "9                         Tsui Wah         1.0  Chinese   \n",
      "\n",
      "  Restaurant Price Range                                 Restaurant Address  \n",
      "0              Under $10  Bridlewood Mall\\n2900 Warden Avenue, Suite 258...  \n",
      "1              Under $10      2950 Birchmount Road\\nScarborough, ON M1W 3G5  \n",
      "2              Under $10          3330 Pharmacy Avenue\\nToronto, ON M1W 3V8  \n",
      "3              Under $10  3601 Victoria Park Avenue\\nUnit 122\\nToronto, ...  \n",
      "4              Under $10      2578 Birchmount Road\\nScarborough, ON M1T 2M5  \n",
      "5              Under $10           2903 Kennedy Rd\\nScarborough, ON M1V 1S8  \n",
      "6              Under $10  325 Bamburgh Cir\\nUnit 109A\\nScarborough, ON M...  \n",
      "7              Under $10          325 Bamburgh Cir\\nScarborough, ON M1W 3Y1  \n",
      "8              Under $10  19 Milliken Boulevard\\nSuite 3\\nScarborough, O...  \n",
      "9              Under $10  3261 Kennedy Road\\nUnit 2\\nScarborough, ON M1V...  \n"
     ]
    }
   ],
   "source": [
    "# Example: get top 10 similar to a known restaurant with weighted features\n",
    "try:     \n",
    "    recs_weighted = recommend_similar(\n",
    "        \"Spicy Mafia\",\n",
    "        df_features=df_features,\n",
    "        feature_matrix=feature_matrix,\n",
    "        top_n=10\n",
    "    )\n",
    "    print(recs_weighted)\n",
    "except ValueError as e:\n",
    "    print(e)"
   ]
  },
  {
   "cell_type": "markdown",
   "id": "693618e1",
   "metadata": {},
   "source": [
    "# 📌 Conclusion\n",
    "\n",
    "In this project, I developed a content-based recommendation system for Toronto restaurants using features derived from the dataset, including cuisine category, price range, and geographic location. The workflow involved:\n",
    "\n",
    "- **Data Exploration**: Identified missing values, assessed the quality of the dataset, and understood the distribution of categories and prices.\n",
    "\n",
    "- **Data Cleaning & Feature Engineering**: Converted price ranges to numeric values, one-hot encoded categorical cuisines, and scaled latitude/longitude to make them suitable for similarity calculations.\n",
    "\n",
    "- **Modeling**: Constructed a feature matrix and applied cosine similarity to identify restaurants with similar attributes.\n",
    "\n",
    "- **Recommendations**: Implemented a function to suggest the Top-10 most similar restaurants for a given input, producing results that align well in cuisine, price, and location.\n",
    "\n",
    "The recommender demonstrates that even without user ratings or reviews, restaurant metadata can be leveraged effectively to generate useful, context-aware recommendations."
   ]
  }
 ],
 "metadata": {
  "kernelspec": {
   "display_name": "toronto-restaurant-recommendation",
   "language": "python",
   "name": "python3"
  },
  "language_info": {
   "codemirror_mode": {
    "name": "ipython",
    "version": 3
   },
   "file_extension": ".py",
   "mimetype": "text/x-python",
   "name": "python",
   "nbconvert_exporter": "python",
   "pygments_lexer": "ipython3",
   "version": "3.8.8"
  }
 },
 "nbformat": 4,
 "nbformat_minor": 5
}
